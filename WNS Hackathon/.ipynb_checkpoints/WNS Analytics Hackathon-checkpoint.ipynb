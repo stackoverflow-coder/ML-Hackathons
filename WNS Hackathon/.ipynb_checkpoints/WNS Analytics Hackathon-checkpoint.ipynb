{
 "cells": [
  {
   "cell_type": "code",
   "execution_count": 11,
   "metadata": {},
   "outputs": [],
   "source": [
    "import pandas as pd\n",
    "import numpy as np\n",
    "from sklearn import linear_model\n",
    "from sklearn.model_selection import train_test_split\n",
    "from sklearn.datasets import load_iris\n",
    "from sklearn.tree import DecisionTreeClassifier\n",
    "import matplotlib as plt"
   ]
  },
  {
   "cell_type": "code",
   "execution_count": 2,
   "metadata": {},
   "outputs": [],
   "source": [
    "train = pd.read_csv(r'.\\train_LZdllcl.csv')"
   ]
  },
  {
   "cell_type": "code",
   "execution_count": null,
   "metadata": {},
   "outputs": [],
   "source": [
    "train.head()"
   ]
  },
  {
   "cell_type": "code",
   "execution_count": null,
   "metadata": {},
   "outputs": [],
   "source": [
    "train.describe()"
   ]
  },
  {
   "cell_type": "code",
   "execution_count": 5,
   "metadata": {},
   "outputs": [],
   "source": [
    "train['previous_year_rating'] = train['previous_year_rating'].fillna(0)\n",
    "train['previous_year_rating'] = train['previous_year_rating'].astype(int)"
   ]
  },
  {
   "cell_type": "code",
   "execution_count": null,
   "metadata": {},
   "outputs": [],
   "source": [
    "train.info()"
   ]
  },
  {
   "cell_type": "code",
   "execution_count": null,
   "metadata": {},
   "outputs": [],
   "source": [
    "train.describe()"
   ]
  },
  {
   "cell_type": "code",
   "execution_count": null,
   "metadata": {},
   "outputs": [],
   "source": [
    "train['employee_id'].groupby(train.is_promoted).count()"
   ]
  },
  {
   "cell_type": "code",
   "execution_count": null,
   "metadata": {},
   "outputs": [],
   "source": [
    "%matplotlib inline\n",
    "train['employee_id'].groupby(train.no_of_trainings).count().plot(kind = 'bar')"
   ]
  },
  {
   "cell_type": "code",
   "execution_count": null,
   "metadata": {},
   "outputs": [],
   "source": [
    "pd.crosstab(train.no_of_trainings,train.is_promoted)"
   ]
  },
  {
   "cell_type": "code",
   "execution_count": null,
   "metadata": {},
   "outputs": [],
   "source": [
    "pd.crosstab(train.department,train.is_promoted).sort_values(by=[1],ascending = False)"
   ]
  },
  {
   "cell_type": "code",
   "execution_count": null,
   "metadata": {},
   "outputs": [],
   "source": [
    "pd.crosstab(train.region,train.is_promoted).sort_values(by=[1],ascending = False)"
   ]
  },
  {
   "cell_type": "code",
   "execution_count": null,
   "metadata": {},
   "outputs": [],
   "source": [
    "pd.crosstab(train.education,train.is_promoted).sort_values(by=[1],ascending = False)"
   ]
  },
  {
   "cell_type": "code",
   "execution_count": null,
   "metadata": {},
   "outputs": [],
   "source": [
    "pd.crosstab(train.length_of_service,train.is_promoted).sort_values(by=[1],ascending = False)"
   ]
  },
  {
   "cell_type": "code",
   "execution_count": null,
   "metadata": {},
   "outputs": [],
   "source": [
    "pd.crosstab(train.previous_year_rating,train.is_promoted).sort_values(by=[1],ascending = False)"
   ]
  },
  {
   "cell_type": "code",
   "execution_count": null,
   "metadata": {},
   "outputs": [],
   "source": [
    "pd.crosstab(train['KPIs_met >80%'],train.is_promoted).sort_values(by=[1],ascending = False)"
   ]
  },
  {
   "cell_type": "code",
   "execution_count": null,
   "metadata": {},
   "outputs": [],
   "source": [
    "pd.crosstab(train['awards_won?'],train.is_promoted).sort_values(by=[1],ascending = False)"
   ]
  },
  {
   "cell_type": "code",
   "execution_count": null,
   "metadata": {},
   "outputs": [],
   "source": [
    "pd.crosstab(train['recruitment_channel'],train.is_promoted)"
   ]
  },
  {
   "cell_type": "code",
   "execution_count": 6,
   "metadata": {},
   "outputs": [],
   "source": [
    "from sklearn import preprocessing\n",
    "le = preprocessing.LabelEncoder()\n",
    "for column_name in train.columns:\n",
    "    if train[column_name].dtype == object:\n",
    "        print(column_name)\n",
    "        train[column_name] = le.fit_transform(train[column_name].astype('str'))\n",
    "        #print(train['employee_id'].groupby(train[column_name]).count())\n",
    "    else:\n",
    "        pass"
   ]
  },
  {
   "cell_type": "code",
   "execution_count": 13,
   "metadata": {},
   "outputs": [
    {
     "data": {
      "text/plain": [
       "0.9997992993723545"
      ]
     },
     "execution_count": 13,
     "metadata": {},
     "output_type": "execute_result"
    }
   ],
   "source": [
    "X = train.drop(['employee_id','is_promoted'],axis = 1)\n",
    "y = train.is_promoted"
   ]
  },
  {
   "cell_type": "code",
   "execution_count": 17,
   "metadata": {},
   "outputs": [
    {
     "name": "stderr",
     "output_type": "stream",
     "text": [
      "D:\\Anaconda3\\lib\\site-packages\\sklearn\\preprocessing\\label.py:151: DeprecationWarning: The truth value of an empty array is ambiguous. Returning False, but in future this will result in an error. Use `array.size > 0` to check that an array is not empty.\n",
      "  if diff:\n"
     ]
    },
    {
     "data": {
      "text/plain": [
       "0.9556086702671143"
      ]
     },
     "execution_count": 17,
     "metadata": {},
     "output_type": "execute_result"
    }
   ],
   "source": [
    "from xgboost import XGBClassifier\n",
    "model = XGBClassifier(learning_rate =0.1,\n",
    " n_estimators=1000,\n",
    " max_depth=5,\n",
    " min_child_weight=1,\n",
    " gamma=0,\n",
    " subsample=0.8,\n",
    " colsample_bytree=0.8,\n",
    " objective= 'binary:logistic',\n",
    " nthread=4,\n",
    " scale_pos_weight=1,\n",
    " seed=27)\n",
    "model.fit(X, y)\n",
    "model.score(X,y)"
   ]
  },
  {
   "cell_type": "code",
   "execution_count": 27,
   "metadata": {},
   "outputs": [
    {
     "data": {
      "text/plain": [
       "([mean: 0.82037, std: 0.00574, params: {'max_depth': 1, 'min_child_weight': 1},\n",
       "  mean: 0.82037, std: 0.00574, params: {'max_depth': 1, 'min_child_weight': 2},\n",
       "  mean: 0.82037, std: 0.00574, params: {'max_depth': 1, 'min_child_weight': 3},\n",
       "  mean: 0.82037, std: 0.00574, params: {'max_depth': 1, 'min_child_weight': 4},\n",
       "  mean: 0.82037, std: 0.00574, params: {'max_depth': 1, 'min_child_weight': 5},\n",
       "  mean: 0.82037, std: 0.00574, params: {'max_depth': 1, 'min_child_weight': 6},\n",
       "  mean: 0.82037, std: 0.00574, params: {'max_depth': 1, 'min_child_weight': 7},\n",
       "  mean: 0.82037, std: 0.00574, params: {'max_depth': 1, 'min_child_weight': 8},\n",
       "  mean: 0.82037, std: 0.00574, params: {'max_depth': 1, 'min_child_weight': 9},\n",
       "  mean: 0.86278, std: 0.00510, params: {'max_depth': 2, 'min_child_weight': 1},\n",
       "  mean: 0.86278, std: 0.00510, params: {'max_depth': 2, 'min_child_weight': 2},\n",
       "  mean: 0.86280, std: 0.00511, params: {'max_depth': 2, 'min_child_weight': 3},\n",
       "  mean: 0.86281, std: 0.00511, params: {'max_depth': 2, 'min_child_weight': 4},\n",
       "  mean: 0.86292, std: 0.00517, params: {'max_depth': 2, 'min_child_weight': 5},\n",
       "  mean: 0.86292, std: 0.00517, params: {'max_depth': 2, 'min_child_weight': 6},\n",
       "  mean: 0.86292, std: 0.00517, params: {'max_depth': 2, 'min_child_weight': 7},\n",
       "  mean: 0.86287, std: 0.00514, params: {'max_depth': 2, 'min_child_weight': 8},\n",
       "  mean: 0.86315, std: 0.00487, params: {'max_depth': 2, 'min_child_weight': 9},\n",
       "  mean: 0.90116, std: 0.00335, params: {'max_depth': 3, 'min_child_weight': 1},\n",
       "  mean: 0.90073, std: 0.00377, params: {'max_depth': 3, 'min_child_weight': 2},\n",
       "  mean: 0.90059, std: 0.00353, params: {'max_depth': 3, 'min_child_weight': 3},\n",
       "  mean: 0.90069, std: 0.00338, params: {'max_depth': 3, 'min_child_weight': 4},\n",
       "  mean: 0.90111, std: 0.00378, params: {'max_depth': 3, 'min_child_weight': 5},\n",
       "  mean: 0.90096, std: 0.00350, params: {'max_depth': 3, 'min_child_weight': 6},\n",
       "  mean: 0.90061, std: 0.00397, params: {'max_depth': 3, 'min_child_weight': 7},\n",
       "  mean: 0.90128, std: 0.00419, params: {'max_depth': 3, 'min_child_weight': 8},\n",
       "  mean: 0.90107, std: 0.00348, params: {'max_depth': 3, 'min_child_weight': 9},\n",
       "  mean: 0.90878, std: 0.00348, params: {'max_depth': 4, 'min_child_weight': 1},\n",
       "  mean: 0.90825, std: 0.00331, params: {'max_depth': 4, 'min_child_weight': 2},\n",
       "  mean: 0.90846, std: 0.00359, params: {'max_depth': 4, 'min_child_weight': 3},\n",
       "  mean: 0.90826, std: 0.00341, params: {'max_depth': 4, 'min_child_weight': 4},\n",
       "  mean: 0.90776, std: 0.00342, params: {'max_depth': 4, 'min_child_weight': 5},\n",
       "  mean: 0.90759, std: 0.00355, params: {'max_depth': 4, 'min_child_weight': 6},\n",
       "  mean: 0.90738, std: 0.00345, params: {'max_depth': 4, 'min_child_weight': 7},\n",
       "  mean: 0.90726, std: 0.00320, params: {'max_depth': 4, 'min_child_weight': 8},\n",
       "  mean: 0.90771, std: 0.00343, params: {'max_depth': 4, 'min_child_weight': 9},\n",
       "  mean: 0.91024, std: 0.00357, params: {'max_depth': 5, 'min_child_weight': 1},\n",
       "  mean: 0.90996, std: 0.00320, params: {'max_depth': 5, 'min_child_weight': 2},\n",
       "  mean: 0.91002, std: 0.00374, params: {'max_depth': 5, 'min_child_weight': 3},\n",
       "  mean: 0.90991, std: 0.00353, params: {'max_depth': 5, 'min_child_weight': 4},\n",
       "  mean: 0.90934, std: 0.00373, params: {'max_depth': 5, 'min_child_weight': 5},\n",
       "  mean: 0.90922, std: 0.00398, params: {'max_depth': 5, 'min_child_weight': 6},\n",
       "  mean: 0.90857, std: 0.00382, params: {'max_depth': 5, 'min_child_weight': 7},\n",
       "  mean: 0.90869, std: 0.00320, params: {'max_depth': 5, 'min_child_weight': 8},\n",
       "  mean: 0.90895, std: 0.00326, params: {'max_depth': 5, 'min_child_weight': 9},\n",
       "  mean: 0.90963, std: 0.00258, params: {'max_depth': 6, 'min_child_weight': 1},\n",
       "  mean: 0.91037, std: 0.00295, params: {'max_depth': 6, 'min_child_weight': 2},\n",
       "  mean: 0.90968, std: 0.00359, params: {'max_depth': 6, 'min_child_weight': 3},\n",
       "  mean: 0.90976, std: 0.00354, params: {'max_depth': 6, 'min_child_weight': 4},\n",
       "  mean: 0.90950, std: 0.00380, params: {'max_depth': 6, 'min_child_weight': 5},\n",
       "  mean: 0.90958, std: 0.00355, params: {'max_depth': 6, 'min_child_weight': 6},\n",
       "  mean: 0.90912, std: 0.00386, params: {'max_depth': 6, 'min_child_weight': 7},\n",
       "  mean: 0.90904, std: 0.00374, params: {'max_depth': 6, 'min_child_weight': 8},\n",
       "  mean: 0.90892, std: 0.00382, params: {'max_depth': 6, 'min_child_weight': 9},\n",
       "  mean: 0.90878, std: 0.00297, params: {'max_depth': 7, 'min_child_weight': 1},\n",
       "  mean: 0.90864, std: 0.00319, params: {'max_depth': 7, 'min_child_weight': 2},\n",
       "  mean: 0.90897, std: 0.00346, params: {'max_depth': 7, 'min_child_weight': 3},\n",
       "  mean: 0.90895, std: 0.00330, params: {'max_depth': 7, 'min_child_weight': 4},\n",
       "  mean: 0.90872, std: 0.00369, params: {'max_depth': 7, 'min_child_weight': 5},\n",
       "  mean: 0.90850, std: 0.00378, params: {'max_depth': 7, 'min_child_weight': 6},\n",
       "  mean: 0.90845, std: 0.00321, params: {'max_depth': 7, 'min_child_weight': 7},\n",
       "  mean: 0.90831, std: 0.00339, params: {'max_depth': 7, 'min_child_weight': 8},\n",
       "  mean: 0.90845, std: 0.00389, params: {'max_depth': 7, 'min_child_weight': 9},\n",
       "  mean: 0.90667, std: 0.00328, params: {'max_depth': 8, 'min_child_weight': 1},\n",
       "  mean: 0.90720, std: 0.00238, params: {'max_depth': 8, 'min_child_weight': 2},\n",
       "  mean: 0.90720, std: 0.00306, params: {'max_depth': 8, 'min_child_weight': 3},\n",
       "  mean: 0.90775, std: 0.00321, params: {'max_depth': 8, 'min_child_weight': 4},\n",
       "  mean: 0.90810, std: 0.00320, params: {'max_depth': 8, 'min_child_weight': 5},\n",
       "  mean: 0.90761, std: 0.00403, params: {'max_depth': 8, 'min_child_weight': 6},\n",
       "  mean: 0.90800, std: 0.00338, params: {'max_depth': 8, 'min_child_weight': 7},\n",
       "  mean: 0.90811, std: 0.00356, params: {'max_depth': 8, 'min_child_weight': 8},\n",
       "  mean: 0.90744, std: 0.00377, params: {'max_depth': 8, 'min_child_weight': 9},\n",
       "  mean: 0.90500, std: 0.00299, params: {'max_depth': 9, 'min_child_weight': 1},\n",
       "  mean: 0.90585, std: 0.00288, params: {'max_depth': 9, 'min_child_weight': 2},\n",
       "  mean: 0.90544, std: 0.00291, params: {'max_depth': 9, 'min_child_weight': 3},\n",
       "  mean: 0.90657, std: 0.00390, params: {'max_depth': 9, 'min_child_weight': 4},\n",
       "  mean: 0.90633, std: 0.00284, params: {'max_depth': 9, 'min_child_weight': 5},\n",
       "  mean: 0.90657, std: 0.00353, params: {'max_depth': 9, 'min_child_weight': 6},\n",
       "  mean: 0.90695, std: 0.00346, params: {'max_depth': 9, 'min_child_weight': 7},\n",
       "  mean: 0.90666, std: 0.00347, params: {'max_depth': 9, 'min_child_weight': 8},\n",
       "  mean: 0.90669, std: 0.00347, params: {'max_depth': 9, 'min_child_weight': 9}],\n",
       " {'max_depth': 6, 'min_child_weight': 2},\n",
       " 0.9103700236316585)"
      ]
     },
     "execution_count": 27,
     "metadata": {},
     "output_type": "execute_result"
    }
   ],
   "source": [
    "from sklearn.grid_search import GridSearchCV\n",
    "param_test1 = {\n",
    " 'max_depth':np.arange(1,10,1),\n",
    " 'min_child_weight':np.arange(1,10,1)\n",
    "}\n",
    "gsearch1 = GridSearchCV(estimator = XGBClassifier( learning_rate =0.1, n_estimators=140, max_depth=5,\n",
    " min_child_weight=1, gamma=0, subsample=0.8, colsample_bytree=0.8,\n",
    " objective= 'binary:logistic', nthread=4, scale_pos_weight=1, seed=27), \n",
    " param_grid = param_test1, scoring='roc_auc',n_jobs=4,iid=False, cv=5)\n",
    "gsearch1.fit(X,y)\n",
    "gsearch1.grid_scores_, gsearch1.best_params_, gsearch1.best_score_"
   ]
  },
  {
   "cell_type": "code",
   "execution_count": 31,
   "metadata": {},
   "outputs": [
    {
     "data": {
      "text/plain": [
       "([mean: 0.91050, std: 0.00325, params: {'n_estimators': 130},\n",
       "  mean: 0.91037, std: 0.00295, params: {'n_estimators': 140},\n",
       "  mean: 0.91024, std: 0.00294, params: {'n_estimators': 150},\n",
       "  mean: 0.91020, std: 0.00299, params: {'n_estimators': 160},\n",
       "  mean: 0.91018, std: 0.00289, params: {'n_estimators': 170}],\n",
       " {'n_estimators': 130},\n",
       " 0.9104960273168153)"
      ]
     },
     "execution_count": 31,
     "metadata": {},
     "output_type": "execute_result"
    }
   ],
   "source": [
    "param_test2 = {\n",
    "     'n_estimators':[130,140,150,160,170]\n",
    "}\n",
    "gsearch2 = GridSearchCV(estimator = XGBClassifier( learning_rate =0.1, n_estimators=140, max_depth=6,\n",
    " min_child_weight=2, gamma=0, subsample=0.8, colsample_bytree=0.8,\n",
    " objective= 'binary:logistic', nthread=4, scale_pos_weight=1, seed=27), \n",
    " param_grid = param_test2, scoring='roc_auc',n_jobs=4,iid=False, cv=5)\n",
    "gsearch2.fit(X,y)\n",
    "gsearch2.grid_scores_, gsearch2.best_params_, gsearch2.best_score_"
   ]
  },
  {
   "cell_type": "code",
   "execution_count": 32,
   "metadata": {},
   "outputs": [
    {
     "data": {
      "text/plain": [
       "([mean: 0.91023, std: 0.00338, params: {'n_estimators': 110},\n",
       "  mean: 0.91025, std: 0.00337, params: {'n_estimators': 120},\n",
       "  mean: 0.91050, std: 0.00325, params: {'n_estimators': 130}],\n",
       " {'n_estimators': 130},\n",
       " 0.9104960273168153)"
      ]
     },
     "execution_count": 32,
     "metadata": {},
     "output_type": "execute_result"
    }
   ],
   "source": [
    "param_test2 = {\n",
    "     'n_estimators':[110,120,130]\n",
    "}\n",
    "gsearch2 = GridSearchCV(estimator = XGBClassifier( learning_rate =0.1, n_estimators=140, max_depth=6,\n",
    " min_child_weight=2, gamma=0, subsample=0.8, colsample_bytree=0.8,\n",
    " objective= 'binary:logistic', nthread=4, scale_pos_weight=1, seed=27), \n",
    " param_grid = param_test2, scoring='roc_auc',n_jobs=4,iid=False, cv=5)\n",
    "gsearch2.fit(X,y)\n",
    "gsearch2.grid_scores_, gsearch2.best_params_, gsearch2.best_score_"
   ]
  },
  {
   "cell_type": "code",
   "execution_count": 33,
   "metadata": {},
   "outputs": [
    {
     "data": {
      "text/plain": [
       "([mean: 0.91050, std: 0.00325, params: {'gamma': 0.0},\n",
       "  mean: 0.91016, std: 0.00306, params: {'gamma': 0.1},\n",
       "  mean: 0.91057, std: 0.00301, params: {'gamma': 0.2},\n",
       "  mean: 0.91054, std: 0.00336, params: {'gamma': 0.3},\n",
       "  mean: 0.91010, std: 0.00332, params: {'gamma': 0.4}],\n",
       " {'gamma': 0.2},\n",
       " 0.9105688643910218)"
      ]
     },
     "execution_count": 33,
     "metadata": {},
     "output_type": "execute_result"
    }
   ],
   "source": [
    "param_test3 = {\n",
    "     'gamma':[i/10.0 for i in range(0,5)]\n",
    "}\n",
    "gsearch3 = GridSearchCV(estimator = XGBClassifier( learning_rate =0.1, n_estimators=130, max_depth=6,\n",
    " min_child_weight=2, gamma=0, subsample=0.8, colsample_bytree=0.8,\n",
    " objective= 'binary:logistic', nthread=4, scale_pos_weight=1, seed=27), \n",
    " param_grid = param_test3, scoring='roc_auc',n_jobs=4,iid=False, cv=5)\n",
    "gsearch3.fit(X,y)\n",
    "gsearch3.grid_scores_, gsearch3.best_params_, gsearch3.best_score_"
   ]
  },
  {
   "cell_type": "code",
   "execution_count": null,
   "metadata": {},
   "outputs": [],
   "source": [
    "param_test4 = {\n",
    "     'subsample':[i/10.0 for i in range(6,10)],\n",
    " 'colsample_bytree':[i/10.0 for i in range(6,10)]\n",
    "}\n",
    "gsearch4 = GridSearchCV(estimator = XGBClassifier( learning_rate =0.1, n_estimators=130, max_depth=6,\n",
    " min_child_weight=2, gamma=0.2, subsample=0.8, colsample_bytree=0.8,\n",
    " objective= 'binary:logistic', nthread=4, scale_pos_weight=1, seed=27), \n",
    " param_grid = param_test4, scoring='roc_auc',n_jobs=4,iid=False, cv=5)\n",
    "gsearch4.fit(X,y)\n",
    "gsearch4.grid_scores_, gsearch4.best_params_, gsearch4.best_score_"
   ]
  },
  {
   "cell_type": "code",
   "execution_count": 18,
   "metadata": {},
   "outputs": [],
   "source": [
    "test = pd.read_csv(r'.\\test_2umaH9m.csv')"
   ]
  },
  {
   "cell_type": "code",
   "execution_count": 19,
   "metadata": {},
   "outputs": [
    {
     "data": {
      "text/plain": [
       "employee_id             23490\n",
       "department              23490\n",
       "region                  23490\n",
       "education               22456\n",
       "gender                  23490\n",
       "recruitment_channel     23490\n",
       "no_of_trainings         23490\n",
       "age                     23490\n",
       "previous_year_rating    21678\n",
       "length_of_service       23490\n",
       "KPIs_met >80%           23490\n",
       "awards_won?             23490\n",
       "avg_training_score      23490\n",
       "dtype: int64"
      ]
     },
     "execution_count": 19,
     "metadata": {},
     "output_type": "execute_result"
    }
   ],
   "source": [
    "test.count()"
   ]
  },
  {
   "cell_type": "code",
   "execution_count": 20,
   "metadata": {},
   "outputs": [
    {
     "data": {
      "text/html": [
       "<div>\n",
       "<style scoped>\n",
       "    .dataframe tbody tr th:only-of-type {\n",
       "        vertical-align: middle;\n",
       "    }\n",
       "\n",
       "    .dataframe tbody tr th {\n",
       "        vertical-align: top;\n",
       "    }\n",
       "\n",
       "    .dataframe thead th {\n",
       "        text-align: right;\n",
       "    }\n",
       "</style>\n",
       "<table border=\"1\" class=\"dataframe\">\n",
       "  <thead>\n",
       "    <tr style=\"text-align: right;\">\n",
       "      <th></th>\n",
       "      <th>employee_id</th>\n",
       "      <th>department</th>\n",
       "      <th>region</th>\n",
       "      <th>education</th>\n",
       "      <th>gender</th>\n",
       "      <th>recruitment_channel</th>\n",
       "      <th>no_of_trainings</th>\n",
       "      <th>age</th>\n",
       "      <th>previous_year_rating</th>\n",
       "      <th>length_of_service</th>\n",
       "      <th>KPIs_met &gt;80%</th>\n",
       "      <th>awards_won?</th>\n",
       "      <th>avg_training_score</th>\n",
       "    </tr>\n",
       "  </thead>\n",
       "  <tbody>\n",
       "    <tr>\n",
       "      <th>0</th>\n",
       "      <td>8724</td>\n",
       "      <td>Technology</td>\n",
       "      <td>region_26</td>\n",
       "      <td>Bachelor's</td>\n",
       "      <td>m</td>\n",
       "      <td>sourcing</td>\n",
       "      <td>1</td>\n",
       "      <td>24</td>\n",
       "      <td>NaN</td>\n",
       "      <td>1</td>\n",
       "      <td>1</td>\n",
       "      <td>0</td>\n",
       "      <td>77</td>\n",
       "    </tr>\n",
       "    <tr>\n",
       "      <th>1</th>\n",
       "      <td>74430</td>\n",
       "      <td>HR</td>\n",
       "      <td>region_4</td>\n",
       "      <td>Bachelor's</td>\n",
       "      <td>f</td>\n",
       "      <td>other</td>\n",
       "      <td>1</td>\n",
       "      <td>31</td>\n",
       "      <td>3.0</td>\n",
       "      <td>5</td>\n",
       "      <td>0</td>\n",
       "      <td>0</td>\n",
       "      <td>51</td>\n",
       "    </tr>\n",
       "    <tr>\n",
       "      <th>2</th>\n",
       "      <td>72255</td>\n",
       "      <td>Sales &amp; Marketing</td>\n",
       "      <td>region_13</td>\n",
       "      <td>Bachelor's</td>\n",
       "      <td>m</td>\n",
       "      <td>other</td>\n",
       "      <td>1</td>\n",
       "      <td>31</td>\n",
       "      <td>1.0</td>\n",
       "      <td>4</td>\n",
       "      <td>0</td>\n",
       "      <td>0</td>\n",
       "      <td>47</td>\n",
       "    </tr>\n",
       "    <tr>\n",
       "      <th>3</th>\n",
       "      <td>38562</td>\n",
       "      <td>Procurement</td>\n",
       "      <td>region_2</td>\n",
       "      <td>Bachelor's</td>\n",
       "      <td>f</td>\n",
       "      <td>other</td>\n",
       "      <td>3</td>\n",
       "      <td>31</td>\n",
       "      <td>2.0</td>\n",
       "      <td>9</td>\n",
       "      <td>0</td>\n",
       "      <td>0</td>\n",
       "      <td>65</td>\n",
       "    </tr>\n",
       "    <tr>\n",
       "      <th>4</th>\n",
       "      <td>64486</td>\n",
       "      <td>Finance</td>\n",
       "      <td>region_29</td>\n",
       "      <td>Bachelor's</td>\n",
       "      <td>m</td>\n",
       "      <td>sourcing</td>\n",
       "      <td>1</td>\n",
       "      <td>30</td>\n",
       "      <td>4.0</td>\n",
       "      <td>7</td>\n",
       "      <td>0</td>\n",
       "      <td>0</td>\n",
       "      <td>61</td>\n",
       "    </tr>\n",
       "  </tbody>\n",
       "</table>\n",
       "</div>"
      ],
      "text/plain": [
       "   employee_id         department     region   education gender  \\\n",
       "0         8724         Technology  region_26  Bachelor's      m   \n",
       "1        74430                 HR   region_4  Bachelor's      f   \n",
       "2        72255  Sales & Marketing  region_13  Bachelor's      m   \n",
       "3        38562        Procurement   region_2  Bachelor's      f   \n",
       "4        64486            Finance  region_29  Bachelor's      m   \n",
       "\n",
       "  recruitment_channel  no_of_trainings  age  previous_year_rating  \\\n",
       "0            sourcing                1   24                   NaN   \n",
       "1               other                1   31                   3.0   \n",
       "2               other                1   31                   1.0   \n",
       "3               other                3   31                   2.0   \n",
       "4            sourcing                1   30                   4.0   \n",
       "\n",
       "   length_of_service  KPIs_met >80%  awards_won?  avg_training_score  \n",
       "0                  1              1            0                  77  \n",
       "1                  5              0            0                  51  \n",
       "2                  4              0            0                  47  \n",
       "3                  9              0            0                  65  \n",
       "4                  7              0            0                  61  "
      ]
     },
     "execution_count": 20,
     "metadata": {},
     "output_type": "execute_result"
    }
   ],
   "source": [
    "test.head()"
   ]
  },
  {
   "cell_type": "code",
   "execution_count": 21,
   "metadata": {},
   "outputs": [],
   "source": [
    "from sklearn import preprocessing\n",
    "le = preprocessing.LabelEncoder()\n",
    "for column_name in test.columns:\n",
    "    if test[column_name].dtype == object:\n",
    "        #print(column_name)\n",
    "        test[column_name] = le.fit_transform(test[column_name].astype('str'))\n",
    "        #print(train['employee_id'].groupby(train[column_name]).count())\n",
    "    else:\n",
    "        pass"
   ]
  },
  {
   "cell_type": "code",
   "execution_count": 22,
   "metadata": {},
   "outputs": [
    {
     "name": "stderr",
     "output_type": "stream",
     "text": [
      "D:\\Anaconda3\\lib\\site-packages\\sklearn\\preprocessing\\label.py:151: DeprecationWarning: The truth value of an empty array is ambiguous. Returning False, but in future this will result in an error. Use `array.size > 0` to check that an array is not empty.\n",
      "  if diff:\n"
     ]
    }
   ],
   "source": [
    "x_test = test.drop(['employee_id'],axis = 1)\n",
    "predicted= model.predict(x_test)"
   ]
  },
  {
   "cell_type": "code",
   "execution_count": 23,
   "metadata": {},
   "outputs": [],
   "source": [
    "test['is_promoted']=predicted\n",
    "test = test[['employee_id','is_promoted']]\n",
    "test.to_csv('prediction_XGB_v1.csv',index = False)"
   ]
  }
 ],
 "metadata": {
  "kernelspec": {
   "display_name": "Python 3",
   "language": "python",
   "name": "python3"
  },
  "language_info": {
   "codemirror_mode": {
    "name": "ipython",
    "version": 3
   },
   "file_extension": ".py",
   "mimetype": "text/x-python",
   "name": "python",
   "nbconvert_exporter": "python",
   "pygments_lexer": "ipython3",
   "version": "3.6.6"
  }
 },
 "nbformat": 4,
 "nbformat_minor": 2
}
